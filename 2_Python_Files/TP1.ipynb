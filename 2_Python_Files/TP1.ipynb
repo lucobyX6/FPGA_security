{
 "cells": [
  {
   "cell_type": "code",
   "execution_count": 3,
   "metadata": {},
   "outputs": [],
   "source": [
    "import serial\n",
    "import serial.tools.list_ports\n",
    "from datetime import datetime"
   ]
  },
  {
   "cell_type": "code",
   "execution_count": 4,
   "metadata": {},
   "outputs": [
    {
     "name": "stdout",
     "output_type": "stream",
     "text": [
      "COM15\n"
     ]
    }
   ],
   "source": [
    "ports = serial.tools.list_ports.comports(include_links=False)\n",
    "\n",
    "if ports:\n",
    "    PORT = ports[0].device\n",
    "\n",
    "print(PORT)"
   ]
  },
  {
   "cell_type": "code",
   "execution_count": 10,
   "metadata": {},
   "outputs": [],
   "source": [
    "class FPGA_communication:\n",
    "        def __init__(self, port, baud_rate):\n",
    "            self.port = port\n",
    "            self.baud_rate = baud_rate\n",
    "        \n",
    "        def open_instrument(self):\n",
    "            self.ser = serial.Serial(self.port, self.baud_rate, timeout=1)\n",
    "            self.log = open(\"log_fpga_communication.txt\",\"a+\")\n",
    "            current_time = datetime.now()\n",
    "            self.log.write(f\"[INFO] - - - {current_time} - - - \\n\")\n",
    "            self.log.write(f\"[INFO] FPGA initialized on port {self.port}, baud rate: {self.baud_rate}\\n\")\n",
    "\n",
    "        def set_memory_addr(self):\n",
    "            send = self.ser.write(b\"A00\")\n",
    "            self.log.write(f\"[DEBUG] Sending memory adress\\n\")\n",
    "\n",
    "            ret = self.ser.read(4)\n",
    "            if (ret == b\"\\x00OK\\n\"  or ret == b\"\\nOK\\n\"):\n",
    "                self.log.write(f\"[INFO] Memory value successfully written at address 0x0000\\n\")\n",
    "                return True\n",
    "            else:\n",
    "                self.log.write(f\"[WARNING] Bad result during set memory adress\\n\")\n",
    "                return False\n",
    "            \n",
    "        def write_val_mem(self, message:str):\n",
    "            send = self.ser.write(b\"W\" + bytes(message, \"utf-8\"))\n",
    "            if(send != 3):\n",
    "                 self.log.write(f\"[WARNING] Invalid message\\n\")\n",
    "            else:\n",
    "                self.log.write(f\"[DEBUG] Message is valid  \\n\")\n",
    "\n",
    "\n",
    "            ret = self.ser.read(4)\n",
    "            if (ret == b\"\\nOK\\n\"):\n",
    "                self.log.write(f\"[INFO] Value successfully written at address 0x{message}\\n\")\n",
    "                return True\n",
    "            else:\n",
    "                self.log.write(f\"[WARNING] Bad result during writing value\\n\")\n",
    "                return False\n",
    "             \n",
    "        def display_mem_vals_leds(self):\n",
    "            send = self.ser.write(b\"G\")\n",
    "            self.log.write(f\"[DEBUG] Beginning go sequence\\n\")\n",
    "\n",
    "            ret = self.ser.read(4)\n",
    "            if (ret == b\"\\nOK\\n\"):\n",
    "                self.log.write(f\"[INFO] Go sequence successfully completed\\n\")\n",
    "                return True\n",
    "            else:\n",
    "                self.log.write(f\"[WARNING] Bad result during go sequence\\n\")\n",
    "                return False\n",
    "            \n",
    "        def read_mem(self):\n",
    "            send = self.ser.write(b\"R\")\n",
    "            self.log.write(f\"[DEBUG] Beginning R acquisition\\n\")\n",
    "            \n",
    "            ret = self.ser.read(5)\n",
    "            self.log.write(f\"[INFO] R acquisition successfully completed\\n\")\n",
    "            return ret.hex()[2]+ret.hex()[3]\n",
    "\n",
    "        def close_instrument(self):\n",
    "            self.ser.close() \n",
    "            self.log.write(f\"[INFO] Connection closed successfully\\n \\n\")"
   ]
  },
  {
   "cell_type": "code",
   "execution_count": 14,
   "metadata": {},
   "outputs": [
    {
     "ename": "SerialException",
     "evalue": "could not open port 'COM15': FileNotFoundError(2, 'Le fichier spécifié est introuvable.', None, 2)",
     "output_type": "error",
     "traceback": [
      "\u001b[1;31m---------------------------------------------------------------------------\u001b[0m",
      "\u001b[1;31mSerialException\u001b[0m                           Traceback (most recent call last)",
      "Cell \u001b[1;32mIn[14], line 3\u001b[0m\n\u001b[0;32m      1\u001b[0m \u001b[38;5;28;01mif\u001b[39;00m \u001b[38;5;18m__name__\u001b[39m \u001b[38;5;241m==\u001b[39m \u001b[38;5;124m'\u001b[39m\u001b[38;5;124m__main__\u001b[39m\u001b[38;5;124m'\u001b[39m \u001b[38;5;129;01mand\u001b[39;00m ports:\n\u001b[0;32m      2\u001b[0m     fpga \u001b[38;5;241m=\u001b[39m FPGA_communication(port \u001b[38;5;241m=\u001b[39m PORT, baud_rate \u001b[38;5;241m=\u001b[39m \u001b[38;5;241m115200\u001b[39m)\n\u001b[1;32m----> 3\u001b[0m     \u001b[43mfpga\u001b[49m\u001b[38;5;241;43m.\u001b[39;49m\u001b[43mopen_instrument\u001b[49m\u001b[43m(\u001b[49m\u001b[43m)\u001b[49m\n\u001b[0;32m      4\u001b[0m     fpga\u001b[38;5;241m.\u001b[39mset_memory_addr()\n\u001b[0;32m      5\u001b[0m     fpga\u001b[38;5;241m.\u001b[39mwrite_val_mem(\u001b[38;5;124m\"\u001b[39m\u001b[38;5;124m55\u001b[39m\u001b[38;5;124m\"\u001b[39m)\n",
      "Cell \u001b[1;32mIn[10], line 7\u001b[0m, in \u001b[0;36mFPGA_communication.open_instrument\u001b[1;34m(self)\u001b[0m\n\u001b[0;32m      6\u001b[0m \u001b[38;5;28;01mdef\u001b[39;00m \u001b[38;5;21mopen_instrument\u001b[39m(\u001b[38;5;28mself\u001b[39m):\n\u001b[1;32m----> 7\u001b[0m     \u001b[38;5;28mself\u001b[39m\u001b[38;5;241m.\u001b[39mser \u001b[38;5;241m=\u001b[39m \u001b[43mserial\u001b[49m\u001b[38;5;241;43m.\u001b[39;49m\u001b[43mSerial\u001b[49m\u001b[43m(\u001b[49m\u001b[38;5;28;43mself\u001b[39;49m\u001b[38;5;241;43m.\u001b[39;49m\u001b[43mport\u001b[49m\u001b[43m,\u001b[49m\u001b[43m \u001b[49m\u001b[38;5;28;43mself\u001b[39;49m\u001b[38;5;241;43m.\u001b[39;49m\u001b[43mbaud_rate\u001b[49m\u001b[43m,\u001b[49m\u001b[43m \u001b[49m\u001b[43mtimeout\u001b[49m\u001b[38;5;241;43m=\u001b[39;49m\u001b[38;5;241;43m1\u001b[39;49m\u001b[43m)\u001b[49m\n\u001b[0;32m      8\u001b[0m     \u001b[38;5;28mself\u001b[39m\u001b[38;5;241m.\u001b[39mlog \u001b[38;5;241m=\u001b[39m \u001b[38;5;28mopen\u001b[39m(\u001b[38;5;124m\"\u001b[39m\u001b[38;5;124mlog_fpga_communication.txt\u001b[39m\u001b[38;5;124m\"\u001b[39m,\u001b[38;5;124m\"\u001b[39m\u001b[38;5;124ma+\u001b[39m\u001b[38;5;124m\"\u001b[39m)\n\u001b[0;32m      9\u001b[0m     current_time \u001b[38;5;241m=\u001b[39m datetime\u001b[38;5;241m.\u001b[39mnow()\n",
      "File \u001b[1;32m~\\AppData\\Roaming\\Python\\Python313\\site-packages\\serial\\serialwin32.py:33\u001b[0m, in \u001b[0;36mSerial.__init__\u001b[1;34m(self, *args, **kwargs)\u001b[0m\n\u001b[0;32m     31\u001b[0m \u001b[38;5;28mself\u001b[39m\u001b[38;5;241m.\u001b[39m_overlapped_read \u001b[38;5;241m=\u001b[39m \u001b[38;5;28;01mNone\u001b[39;00m\n\u001b[0;32m     32\u001b[0m \u001b[38;5;28mself\u001b[39m\u001b[38;5;241m.\u001b[39m_overlapped_write \u001b[38;5;241m=\u001b[39m \u001b[38;5;28;01mNone\u001b[39;00m\n\u001b[1;32m---> 33\u001b[0m \u001b[38;5;28;43msuper\u001b[39;49m\u001b[43m(\u001b[49m\u001b[43mSerial\u001b[49m\u001b[43m,\u001b[49m\u001b[43m \u001b[49m\u001b[38;5;28;43mself\u001b[39;49m\u001b[43m)\u001b[49m\u001b[38;5;241;43m.\u001b[39;49m\u001b[38;5;21;43m__init__\u001b[39;49m\u001b[43m(\u001b[49m\u001b[38;5;241;43m*\u001b[39;49m\u001b[43margs\u001b[49m\u001b[43m,\u001b[49m\u001b[43m \u001b[49m\u001b[38;5;241;43m*\u001b[39;49m\u001b[38;5;241;43m*\u001b[39;49m\u001b[43mkwargs\u001b[49m\u001b[43m)\u001b[49m\n",
      "File \u001b[1;32m~\\AppData\\Roaming\\Python\\Python313\\site-packages\\serial\\serialutil.py:244\u001b[0m, in \u001b[0;36mSerialBase.__init__\u001b[1;34m(self, port, baudrate, bytesize, parity, stopbits, timeout, xonxoff, rtscts, write_timeout, dsrdtr, inter_byte_timeout, exclusive, **kwargs)\u001b[0m\n\u001b[0;32m    241\u001b[0m     \u001b[38;5;28;01mraise\u001b[39;00m \u001b[38;5;167;01mValueError\u001b[39;00m(\u001b[38;5;124m'\u001b[39m\u001b[38;5;124munexpected keyword arguments: \u001b[39m\u001b[38;5;132;01m{!r}\u001b[39;00m\u001b[38;5;124m'\u001b[39m\u001b[38;5;241m.\u001b[39mformat(kwargs))\n\u001b[0;32m    243\u001b[0m \u001b[38;5;28;01mif\u001b[39;00m port \u001b[38;5;129;01mis\u001b[39;00m \u001b[38;5;129;01mnot\u001b[39;00m \u001b[38;5;28;01mNone\u001b[39;00m:\n\u001b[1;32m--> 244\u001b[0m     \u001b[38;5;28;43mself\u001b[39;49m\u001b[38;5;241;43m.\u001b[39;49m\u001b[43mopen\u001b[49m\u001b[43m(\u001b[49m\u001b[43m)\u001b[49m\n",
      "File \u001b[1;32m~\\AppData\\Roaming\\Python\\Python313\\site-packages\\serial\\serialwin32.py:64\u001b[0m, in \u001b[0;36mSerial.open\u001b[1;34m(self)\u001b[0m\n\u001b[0;32m     62\u001b[0m \u001b[38;5;28;01mif\u001b[39;00m \u001b[38;5;28mself\u001b[39m\u001b[38;5;241m.\u001b[39m_port_handle \u001b[38;5;241m==\u001b[39m win32\u001b[38;5;241m.\u001b[39mINVALID_HANDLE_VALUE:\n\u001b[0;32m     63\u001b[0m     \u001b[38;5;28mself\u001b[39m\u001b[38;5;241m.\u001b[39m_port_handle \u001b[38;5;241m=\u001b[39m \u001b[38;5;28;01mNone\u001b[39;00m    \u001b[38;5;66;03m# 'cause __del__ is called anyway\u001b[39;00m\n\u001b[1;32m---> 64\u001b[0m     \u001b[38;5;28;01mraise\u001b[39;00m SerialException(\u001b[38;5;124m\"\u001b[39m\u001b[38;5;124mcould not open port \u001b[39m\u001b[38;5;132;01m{!r}\u001b[39;00m\u001b[38;5;124m: \u001b[39m\u001b[38;5;132;01m{!r}\u001b[39;00m\u001b[38;5;124m\"\u001b[39m\u001b[38;5;241m.\u001b[39mformat(\u001b[38;5;28mself\u001b[39m\u001b[38;5;241m.\u001b[39mportstr, ctypes\u001b[38;5;241m.\u001b[39mWinError()))\n\u001b[0;32m     66\u001b[0m \u001b[38;5;28;01mtry\u001b[39;00m:\n\u001b[0;32m     67\u001b[0m     \u001b[38;5;28mself\u001b[39m\u001b[38;5;241m.\u001b[39m_overlapped_read \u001b[38;5;241m=\u001b[39m win32\u001b[38;5;241m.\u001b[39mOVERLAPPED()\n",
      "\u001b[1;31mSerialException\u001b[0m: could not open port 'COM15': FileNotFoundError(2, 'Le fichier spécifié est introuvable.', None, 2)"
     ]
    }
   ],
   "source": [
    "if __name__ == '__main__' and ports:\n",
    "    fpga = FPGA_communication(port = PORT, baud_rate = 115200)\n",
    "    fpga.open_instrument()\n",
    "    fpga.set_memory_addr()\n",
    "    fpga.write_val_mem(\"55\")\n",
    "    fpga.display_mem_vals_leds()\n",
    "    mem_val = fpga.read_mem()\n",
    "    fpga.close_instrument()"
   ]
  }
 ],
 "metadata": {
  "kernelspec": {
   "display_name": "Python 3",
   "language": "python",
   "name": "python3"
  },
  "language_info": {
   "codemirror_mode": {
    "name": "ipython",
    "version": 3
   },
   "file_extension": ".py",
   "mimetype": "text/x-python",
   "name": "python",
   "nbconvert_exporter": "python",
   "pygments_lexer": "ipython3",
   "version": "3.13.0"
  }
 },
 "nbformat": 4,
 "nbformat_minor": 2
}
