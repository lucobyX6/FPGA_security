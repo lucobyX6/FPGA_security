{
 "cells": [
  {
   "cell_type": "code",
   "execution_count": 3,
   "metadata": {},
   "outputs": [],
   "source": [
    "import serial\n",
    "import serial.tools.list_ports\n",
    "from datetime import datetime"
   ]
  },
  {
   "cell_type": "code",
   "execution_count": 4,
   "metadata": {},
   "outputs": [
    {
     "name": "stdout",
     "output_type": "stream",
     "text": [
      "COM15\n"
     ]
    }
   ],
   "source": [
    "ports = serial.tools.list_ports.comports(include_links=False)\n",
    "\n",
    "if ports:\n",
    "    PORT = ports[0].device\n",
    "\n",
    "print(PORT)"
   ]
  },
  {
   "cell_type": "code",
   "execution_count": 10,
   "metadata": {},
   "outputs": [],
   "source": [
    "class FPGA_communication:\n",
    "        def __init__(self, port, baud_rate):\n",
    "            self.port = port\n",
    "            self.baud_rate = baud_rate\n",
    "        \n",
    "        def open_instrument(self):\n",
    "            self.ser = serial.Serial(self.port, self.baud_rate, timeout=1)\n",
    "            self.log = open(\"log_fpga_communication.txt\",\"a+\")\n",
    "            current_time = datetime.now()\n",
    "            self.log.write(f\"[INFO] - - - {current_time} - - - \\n\")\n",
    "            self.log.write(f\"[INFO] FPGA initialized on port {self.port}, baud rate: {self.baud_rate}\\n\")\n",
    "\n",
    "        def set_memory_addr(self):\n",
    "            send = self.ser.write(b\"A00\")\n",
    "            self.log.write(f\"[DEBUG] Sending memory adress\\n\")\n",
    "\n",
    "            ret = self.ser.read(4)\n",
    "            if (ret == b\"\\x00OK\\n\"  or ret == b\"\\nOK\\n\"):\n",
    "                self.log.write(f\"[INFO] Memory value successfully written at address 0x0000\\n\")\n",
    "                return True\n",
    "            else:\n",
    "                self.log.write(f\"[WARNING] Bad result during set memory adress\\n\")\n",
    "                return False\n",
    "            \n",
    "        def write_val_mem(self, message:str):\n",
    "            send = self.ser.write(b\"W\" + bytes(message, \"utf-8\"))\n",
    "            if(send != 3):\n",
    "                 self.log.write(f\"[WARNING] Invalid message\\n\")\n",
    "            else:\n",
    "                self.log.write(f\"[DEBUG] Message is valid  \\n\")\n",
    "\n",
    "\n",
    "            ret = self.ser.read(4)\n",
    "            if (ret == b\"\\nOK\\n\"):\n",
    "                self.log.write(f\"[INFO] Value successfully written at address 0x{message}\\n\")\n",
    "                return True\n",
    "            else:\n",
    "                self.log.write(f\"[WARNING] Bad result during writing value\\n\")\n",
    "                return False\n",
    "             \n",
    "        def display_mem_vals_leds(self):\n",
    "            send = self.ser.write(b\"G\")\n",
    "            self.log.write(f\"[DEBUG] Beginning go sequence\\n\")\n",
    "\n",
    "            ret = self.ser.read(4)\n",
    "            if (ret == b\"\\nOK\\n\"):\n",
    "                self.log.write(f\"[INFO] Go sequence successfully completed\\n\")\n",
    "                return True\n",
    "            else:\n",
    "                self.log.write(f\"[WARNING] Bad result during go sequence\\n\")\n",
    "                return False\n",
    "            \n",
    "        def read_mem(self):\n",
    "            send = self.ser.write(b\"R\")\n",
    "            self.log.write(f\"[DEBUG] Beginning R acquisition\\n\")\n",
    "            \n",
    "            ret = self.ser.read(5)\n",
    "            self.log.write(f\"[INFO] R acquisition successfully completed\\n\")\n",
    "            return ret.hex()[2]+ret.hex()[3]\n",
    "\n",
    "        def close_instrument(self):\n",
    "            self.ser.close() \n",
    "            self.log.write(f\"[INFO] Connection closed successfully\\n \\n\")"
   ]
  },
  {
   "cell_type": "code",
   "execution_count": 13,
   "metadata": {},
   "outputs": [
    {
     "name": "stdout",
     "output_type": "stream",
     "text": [
      "55\n"
     ]
    }
   ],
   "source": [
    "if __name__ == '__main__' and ports:\n",
    "    fpga = FPGA_communication(port = PORT, baud_rate = 115200)\n",
    "    fpga.open_instrument()\n",
    "    fpga.set_memory_addr()\n",
    "    fpga.write_val_mem(\"55\")\n",
    "    fpga.display_mem_vals_leds()\n",
    "    mem_val = fpga.read_mem()\n",
    "    print(mem_val)\n",
    "    fpga.close_instrument()"
   ]
  }
 ],
 "metadata": {
  "kernelspec": {
   "display_name": "Python 3",
   "language": "python",
   "name": "python3"
  },
  "language_info": {
   "codemirror_mode": {
    "name": "ipython",
    "version": 3
   },
   "file_extension": ".py",
   "mimetype": "text/x-python",
   "name": "python",
   "nbconvert_exporter": "python",
   "pygments_lexer": "ipython3",
   "version": "3.13.0"
  }
 },
 "nbformat": 4,
 "nbformat_minor": 2
}
