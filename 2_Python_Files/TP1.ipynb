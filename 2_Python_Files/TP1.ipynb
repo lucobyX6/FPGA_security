{
 "cells": [
  {
   "cell_type": "code",
   "execution_count": 307,
   "metadata": {},
   "outputs": [],
   "source": [
    "import serial\n",
    "import serial.tools.list_ports\n",
    "import numpy as np\n",
    "from datetime import datetime"
   ]
  },
  {
   "cell_type": "code",
   "execution_count": null,
   "metadata": {},
   "outputs": [
    {
     "name": "stdout",
     "output_type": "stream",
     "text": [
      "COM15\n"
     ]
    }
   ],
   "source": [
    "ports = serial.tools.list_ports.comports(include_links=False)\n",
    "\n",
    "if ports:\n",
    "    PORT = ports[0].device\n",
    "\n",
    "print(PORT)"
   ]
  },
  {
   "cell_type": "code",
   "execution_count": 313,
   "metadata": {},
   "outputs": [],
   "source": [
    "class FPGA_communication:\n",
    "        def __init__(self, port, baud_rate):\n",
    "            self.port = port\n",
    "            self.baud_rate = baud_rate\n",
    "        \n",
    "        def open_instrument(self):\n",
    "            self.ser = serial.Serial(self.port, self.baud_rate, timeout=1)\n",
    "            self.log = open(\"log_fpga_communication.txt\",\"a+\")\n",
    "            current_time = datetime.now()\n",
    "            self.log.write(f\"[INFO] - - - {current_time} - - - \\n\")\n",
    "            print(f\"[INFO] FPGA initialized on port {self.port}, baud rate: {self.baud_rate}\")\n",
    "            self.log.write(f\"[INFO] FPGA initialized on port {self.port}, baud rate: {self.baud_rate}\\n\")\n",
    "\n",
    "        def set_memory_addr(self):\n",
    "            send = self.ser.write(b\"A00\")\n",
    "            print(\"> bytes sent :\" + str(send))\n",
    "            self.log.write(f\"[DEBUG] Sending memory adress\\n\")\n",
    "\n",
    "            ret = self.ser.read(4)\n",
    "            print(\"> return value : \" + str(ret))\n",
    "            if (ret == b\"\\x00OK\\n\"  or ret == b\"\\nOK\\n\"):\n",
    "                print(\"> Set memory done\")\n",
    "                return True\n",
    "            else:\n",
    "                print(\"> Error in set memory\")\n",
    "                return False\n",
    "            \n",
    "        def write_val_mem(self, message:str):\n",
    "             send = self.ser.write(b\"W\" + bytes(message, \"utf-8\"))\n",
    "             print(\"> bytes sent :\" + str(send))\n",
    "             ret = self.ser.read(4)\n",
    "             print(\"> return value : \" + str(ret))\n",
    "             if (ret == b\"\\nOK\\n\"):\n",
    "                print(\"> Message sent\")\n",
    "                return True\n",
    "             else:\n",
    "                print(\"> Error in message sending\")\n",
    "                return False\n",
    "             \n",
    "        def display_mem_vals_leds(self):\n",
    "            send = self.ser.write(b\"G\")\n",
    "            print(\"> bytes sent :\" + str(send))\n",
    "            ret = self.ser.read(4)\n",
    "            print(\"> return value : \" + str(ret))\n",
    "            if (ret == b\"\\nOK\\n\"):\n",
    "                print(\"> Go sent\")\n",
    "                return True\n",
    "            else:\n",
    "                print(\"> Error in Go sending\")\n",
    "                return False\n",
    "            \n",
    "        def read_mem(self):\n",
    "            send = self.ser.write(b\"R\")\n",
    "            print(\"> bytes sent :\" + str(send))\n",
    "            ret = self.ser.read(5)\n",
    "            print(\"> return value : \" + str(ret))\n",
    "            return ret.hex()[2]+ret.hex()[3]\n",
    "\n",
    "        def close_instrument(self):\n",
    "            self.ser.close() "
   ]
  },
  {
   "cell_type": "code",
   "execution_count": 314,
   "metadata": {},
   "outputs": [
    {
     "name": "stdout",
     "output_type": "stream",
     "text": [
      "[INFO] FPGA initialized on port COM15, baud rate: 115200\n",
      "> bytes sent :3\n",
      "> return value : b'\\nOK\\n'\n",
      "> Set memory done\n",
      "> bytes sent :3\n",
      "> return value : b'\\nOK\\n'\n",
      "> Message sent\n",
      "> bytes sent :1\n",
      "> return value : b'\\nOK\\n'\n",
      "> Go sent\n",
      "> bytes sent :1\n",
      "> return value : b'\\nUOK\\n'\n",
      "55\n"
     ]
    }
   ],
   "source": [
    "if __name__ == '__main__' and ports:\n",
    "    fpga = FPGA_communication(port = PORT, baud_rate = 115200)\n",
    "    fpga.open_instrument()\n",
    "    fpga.set_memory_addr()\n",
    "    fpga.write_val_mem(\"55\")\n",
    "    fpga.display_mem_vals_leds()\n",
    "    mem_val = fpga.read_mem()\n",
    "    print(mem_val)\n",
    "    fpga.close_instrument()"
   ]
  }
 ],
 "metadata": {
  "kernelspec": {
   "display_name": "Python 3",
   "language": "python",
   "name": "python3"
  },
  "language_info": {
   "codemirror_mode": {
    "name": "ipython",
    "version": 3
   },
   "file_extension": ".py",
   "mimetype": "text/x-python",
   "name": "python",
   "nbconvert_exporter": "python",
   "pygments_lexer": "ipython3",
   "version": "3.13.0"
  }
 },
 "nbformat": 4,
 "nbformat_minor": 2
}
